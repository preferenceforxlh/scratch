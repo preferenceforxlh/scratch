{
 "cells": [
  {
   "cell_type": "code",
   "execution_count": 2,
   "metadata": {},
   "outputs": [],
   "source": [
    "import math\n",
    "import torch"
   ]
  },
  {
   "cell_type": "code",
   "execution_count": 4,
   "metadata": {},
   "outputs": [
    {
     "name": "stdout",
     "output_type": "stream",
     "text": [
      "torch.Size([1, 4, 512])\n",
      "torch.Size([1, 4])\n",
      "tensor([[   44, 23750, 14680, 24802]])\n"
     ]
    }
   ],
   "source": [
    "batch_size = 1  # batch为多少条数据 \n",
    "length = 4      # length 为 4\n",
    "\n",
    "x = torch.randn(batch_size, length, 512) #input :  batch_size, length, embd_dim\n",
    "y = torch.randint(low=0, high=32000, size=(batch_size, length), dtype=torch.long)\n",
    "\n",
    "print(x.shape)\n",
    "print(y.shape)\n",
    "print(y)"
   ]
  },
  {
   "cell_type": "code",
   "execution_count": 5,
   "metadata": {},
   "outputs": [
    {
     "name": "stdout",
     "output_type": "stream",
     "text": [
      "tensor([[[1., 0., 0., 0.],\n",
      "         [1., 1., 0., 0.],\n",
      "         [1., 1., 1., 0.],\n",
      "         [1., 1., 1., 1.]]])\n"
     ]
    },
    {
     "data": {
      "text/plain": [
       "torch.Size([1, 4, 512])"
      ]
     },
     "execution_count": 5,
     "metadata": {},
     "output_type": "execute_result"
    }
   ],
   "source": [
    "# attn\n",
    "q = torch.randn(512, 512)  \n",
    "k = torch.randn(512, 512)\n",
    "v = torch.randn(512, 512)\n",
    "o = torch.randn(512, 512)\n",
    "\n",
    "mask=torch.tril(torch.ones(1, 4, 4))\n",
    "print(mask)\n",
    "\n",
    "# scaled dot produc attention \n",
    "Q,K,V = x@q, x@k, x@v \n",
    "scores = Q@K.transpose(1,2) / math.sqrt(512.0)\n",
    "scores = scores.masked_fill(mask == 0, float('-inf'))\n",
    "weight = torch.nn.functional.softmax(scores, dim=2)\n",
    "attn = weight@V\n",
    "attn = attn@o\n",
    "attn.shape"
   ]
  },
  {
   "cell_type": "code",
   "execution_count": 6,
   "metadata": {},
   "outputs": [
    {
     "data": {
      "text/plain": [
       "torch.Size([1, 4, 512])"
      ]
     },
     "execution_count": 6,
     "metadata": {},
     "output_type": "execute_result"
    }
   ],
   "source": [
    "# mlp\n",
    "mlp_up = torch.randn(512, 1024)\n",
    "mlp_down = torch.randn(1024, 512)\n",
    "mlp = attn @ mlp_up @ mlp_down\n",
    "mlp.shape"
   ]
  },
  {
   "cell_type": "code",
   "execution_count": 7,
   "metadata": {},
   "outputs": [
    {
     "data": {
      "text/plain": [
       "torch.Size([1, 4, 32000])"
      ]
     },
     "execution_count": 7,
     "metadata": {},
     "output_type": "execute_result"
    }
   ],
   "source": [
    "# output\n",
    "lm_head = torch.randn(512, 32000) \n",
    "logits = mlp@lm_head\n",
    "logits.shape"
   ]
  },
  {
   "cell_type": "code",
   "execution_count": 11,
   "metadata": {},
   "outputs": [
    {
     "name": "stdout",
     "output_type": "stream",
     "text": [
      "torch.Size([1, 4, 32000])\n",
      "tensor([[   44, 23750, 14680, 24802]])\n",
      "tensor(10.3736)\n",
      "tensor([[17211, 17211, 22707, 17211]])\n",
      "tensor(17211)\n"
     ]
    }
   ],
   "source": [
    "# loss\n",
    "# probs\n",
    "probs = torch.softmax(logits, dim=2) # 4个token 对应 4个logits[32000]\n",
    "print(probs.shape) # model ouput prob\n",
    "print(y)    # model lables   # 1logits 32000 <-> label 1 \n",
    "# label 有4个\n",
    "\n",
    "# Loss\n",
    "loss_fn = torch.nn.CrossEntropyLoss()\n",
    "loss = loss_fn(probs.view(-1,32000), y.view(-1)) #4token  4 CE loss\n",
    "print(loss)\n",
    "\n",
    "# pred\n",
    "pred = torch.argmax(probs, dim=2) # generation \n",
    "print(pred) # model pred     4 pred\n",
    "print(pred[0,-1]) # model pred    推理的next token预测\n",
    "# greedy 贪婪的解码"
   ]
  },
  {
   "cell_type": "code",
   "execution_count": null,
   "metadata": {},
   "outputs": [],
   "source": []
  }
 ],
 "metadata": {
  "kernelspec": {
   "display_name": "Python 3",
   "language": "python",
   "name": "python3"
  },
  "language_info": {
   "codemirror_mode": {
    "name": "ipython",
    "version": 3
   },
   "file_extension": ".py",
   "mimetype": "text/x-python",
   "name": "python",
   "nbconvert_exporter": "python",
   "pygments_lexer": "ipython3",
   "version": "3.10.15"
  }
 },
 "nbformat": 4,
 "nbformat_minor": 2
}
